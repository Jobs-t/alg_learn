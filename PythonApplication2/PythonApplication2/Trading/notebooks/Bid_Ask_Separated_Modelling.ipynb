{
 "cells": [
  {
   "cell_type": "code",
   "execution_count": 6,
   "metadata": {
    "collapsed": true
   },
   "outputs": [],
   "source": [
    "%matplotlib inline\n",
    "import pandas as pd\n",
    "import numpy as np\n",
    "from sklearn import linear_model as lm\n",
    "from matplotlib import pyplot as plt\n",
    "import seaborn as sns"
   ]
  },
  {
   "cell_type": "code",
   "execution_count": 7,
   "metadata": {
    "collapsed": true
   },
   "outputs": [],
   "source": [
    "train_table = pd.DataFrame.from_csv('../data/subset_train_OHE.csv')\n",
    "test_table = pd.DataFrame.from_csv('../data/subset_test_OHE.csv')"
   ]
  },
  {
   "cell_type": "code",
   "execution_count": 8,
   "metadata": {
    "collapsed": true
   },
   "outputs": [],
   "source": [
    "bidPredictionColumns = []\n",
    "for i in range(52, 101):\n",
    "    for column in train_table.columns.values:\n",
    "        if column.endswith(str(i)) and column.startswith('bid'):\n",
    "            bidPredictionColumns.append(column)\n",
    "\n",
    "askPredictionColumns = []\n",
    "for i in range(52, 101):\n",
    "    for column in train_table.columns.values:\n",
    "        if column.endswith(str(i)) and column.startswith('ask'):\n",
    "            askPredictionColumns.append(column)\n",
    "\n",
    "predictionColumns = bidPredictionColumns + askPredictionColumns"
   ]
  },
  {
   "cell_type": "code",
   "execution_count": 9,
   "metadata": {
    "collapsed": false
   },
   "outputs": [],
   "source": [
    "featureColumns = []\n",
    "columnsToIgnore = []\n",
    "for column in train_table.columns.values:\n",
    "    if ((column not in predictionColumns) and (column not in columnsToIgnore) and (not column.startswith('time'))):\n",
    "        featureColumns.append(column)"
   ]
  },
  {
   "cell_type": "code",
   "execution_count": 10,
   "metadata": {
    "collapsed": false
   },
   "outputs": [],
   "source": [
    "trainX = np.zeros((train_table.shape[0], len(featureColumns)))\n",
    "\n",
    "trainY_ask = np.zeros((train_table.shape[0]))\n",
    "trainY_bid = np.zeros((train_table.shape[0]))\n",
    "\n",
    "testX = np.zeros((test_table.shape[0], len(featureColumns)))"
   ]
  },
  {
   "cell_type": "code",
   "execution_count": 11,
   "metadata": {
    "collapsed": false
   },
   "outputs": [],
   "source": [
    "index = 0\n",
    "for ix, row in train_table.iterrows():\n",
    "    X = (np.array(row[featureColumns])).flatten('F')\n",
    "    Y_bid = row[bidPredictionColumns[0]]\n",
    "    Y_ask = row[askPredictionColumns[0]]\n",
    "    \n",
    "    trainX[index, :] = X\n",
    "    trainY_ask[index] = Y_ask\n",
    "    trainY_bid[index] = Y_bid\n",
    "    \n",
    "    index = index+1"
   ]
  },
  {
   "cell_type": "code",
   "execution_count": 12,
   "metadata": {
    "collapsed": true
   },
   "outputs": [],
   "source": [
    "index = 0\n",
    "for ix, row in test_table.iterrows():\n",
    "    X = (np.array(row[featureColumns])).flatten('F')\n",
    "    testX[index, :] = X\n",
    "\n",
    "    index = index+1"
   ]
  },
  {
   "cell_type": "code",
   "execution_count": 13,
   "metadata": {
    "collapsed": false
   },
   "outputs": [
    {
     "data": {
      "text/plain": [
       "LinearRegression(copy_X=True, fit_intercept=True, n_jobs=1, normalize=False)"
      ]
     },
     "execution_count": 13,
     "metadata": {},
     "output_type": "execute_result"
    }
   ],
   "source": [
    "LR_model_ask = lm.LinearRegression(fit_intercept=True, normalize=False, n_jobs=1)\n",
    "LR_model_ask.fit(trainX, trainY_ask)"
   ]
  },
  {
   "cell_type": "code",
   "execution_count": 14,
   "metadata": {
    "collapsed": false
   },
   "outputs": [
    {
     "data": {
      "text/plain": [
       "LinearRegression(copy_X=True, fit_intercept=True, n_jobs=1, normalize=False)"
      ]
     },
     "execution_count": 14,
     "metadata": {},
     "output_type": "execute_result"
    }
   ],
   "source": [
    "LR_model_bid = lm.LinearRegression(fit_intercept=True, normalize=False, n_jobs=1)\n",
    "LR_model_bid.fit(trainX, trainY_bid)"
   ]
  },
  {
   "cell_type": "code",
   "execution_count": 15,
   "metadata": {
    "collapsed": true
   },
   "outputs": [],
   "source": [
    "testY_ask = LR_model_ask.predict(testX)\n",
    "testY_bid = LR_model_bid.predict(testX)"
   ]
  },
  {
   "cell_type": "code",
   "execution_count": 16,
   "metadata": {
    "collapsed": true
   },
   "outputs": [],
   "source": [
    "prediction = pd.DataFrame.from_csv('../predictions/template_prediction.csv')\n",
    "\n",
    "i = 0\n",
    "for ix, row in test_table.iterrows():\n",
    "    row_id = row['row_id']\n",
    "\n",
    "    index_in_pred = prediction[prediction['row_id'] == row_id].index.tolist()[0]\n",
    "\n",
    "    bid = testY_bid[i]\n",
    "    ask = testY_ask[i]\n",
    "    i = i+1\n",
    "    \n",
    "    for column in predictionColumns:\n",
    "        if column.startswith('bid'):\n",
    "            prediction.set_value(index_in_pred, column, bid)\n",
    "        else:\n",
    "            prediction.set_value(index_in_pred, column, ask)"
   ]
  },
  {
   "cell_type": "code",
   "execution_count": null,
   "metadata": {
    "collapsed": true
   },
   "outputs": [],
   "source": []
  }
 ],
 "metadata": {
  "anaconda-cloud": {},
  "kernelspec": {
   "display_name": "Python [conda root]",
   "language": "python",
   "name": "conda-root-py"
  },
  "language_info": {
   "codemirror_mode": {
    "name": "ipython",
    "version": 2
   },
   "file_extension": ".py",
   "mimetype": "text/x-python",
   "name": "python",
   "nbconvert_exporter": "python",
   "pygments_lexer": "ipython2",
   "version": "2.7.12"
  }
 },
 "nbformat": 4,
 "nbformat_minor": 1
}
