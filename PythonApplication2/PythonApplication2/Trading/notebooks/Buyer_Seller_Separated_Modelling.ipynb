{
 "cells": [
  {
   "cell_type": "code",
   "execution_count": 1,
   "metadata": {
    "collapsed": true
   },
   "outputs": [],
   "source": [
    "%matplotlib inline\n",
    "import pandas as pd\n",
    "import numpy as np\n",
    "from sklearn import linear_model as lm\n",
    "from matplotlib import pyplot as plt\n",
    "import seaborn as sns"
   ]
  },
  {
   "cell_type": "markdown",
   "metadata": {},
   "source": [
    "# Description\n",
    "\n",
    "Here, we try to analyze and predict the buy/seller initiated Liquidity Shock resiliency separately."
   ]
  },
  {
   "cell_type": "code",
   "execution_count": 2,
   "metadata": {
    "collapsed": true
   },
   "outputs": [],
   "source": [
    "train_table = pd.DataFrame.from_csv('../data/subset_train_OHE.csv')\n",
    "test_table = pd.DataFrame.from_csv('../data/subset_test_OHE.csv')"
   ]
  },
  {
   "cell_type": "code",
   "execution_count": 3,
   "metadata": {
    "collapsed": true
   },
   "outputs": [],
   "source": [
    "predictionColumns = []\n",
    "for i in range(52, 101):\n",
    "    for column in train_table.columns.values:\n",
    "        if column.endswith(str(i)) and (column.startswith('ask') or column.startswith('bid')):\n",
    "            predictionColumns.append(column)"
   ]
  },
  {
   "cell_type": "code",
   "execution_count": 4,
   "metadata": {
    "collapsed": true
   },
   "outputs": [],
   "source": [
    "featureColumns = []\n",
    "columnsToIgnore = ['row_id', 'is_seller', 'is_buyer']\n",
    "for column in train_table.columns.values:\n",
    "    if ((column not in predictionColumns) and (column not in columnsToIgnore) and (not column.startswith('time'))):\n",
    "        featureColumns.append(column)"
   ]
  },
  {
   "cell_type": "code",
   "execution_count": 6,
   "metadata": {
    "collapsed": true
   },
   "outputs": [],
   "source": [
    "train_table_seller = train_table[train_table['is_seller'] == 1]\n",
    "train_table_buyer = train_table[train_table['is_buyer'] == 1]\n",
    "\n",
    "test_table_seller = test_table[test_table['is_seller'] == 1]\n",
    "test_table_buyer = test_table[test_table['is_buyer'] == 1]"
   ]
  },
  {
   "cell_type": "code",
   "execution_count": 7,
   "metadata": {
    "collapsed": true
   },
   "outputs": [],
   "source": [
    "trainX_seller = np.zeros((train_table_seller.shape[0] * 2, len(featureColumns) + 1))\n",
    "trainY_seller = np.zeros((train_table_seller.shape[0] * 2))\n",
    "\n",
    "trainX_buyer = np.zeros((train_table_buyer.shape[0] * 2, len(featureColumns) + 1))\n",
    "trainY_buyer = np.zeros((train_table_buyer.shape[0] * 2))"
   ]
  },
  {
   "cell_type": "code",
   "execution_count": 8,
   "metadata": {
    "collapsed": true
   },
   "outputs": [],
   "source": [
    "testX_seller = np.zeros((test_table_seller.shape[0] * 2, len(featureColumns) + 1))\n",
    "testX_buyer = np.zeros((test_table_buyer.shape[0] * 2, len(featureColumns) + 1))"
   ]
  },
  {
   "cell_type": "code",
   "execution_count": 9,
   "metadata": {
    "collapsed": true
   },
   "outputs": [],
   "source": [
    "index = 0\n",
    "for ix, row in train_table_seller.iterrows():\n",
    "    X_features = (np.array(row[featureColumns])).flatten('F')\n",
    "    X = np.concatenate((X_features, np.array([0])))\n",
    "    Y = row[predictionColumns[0]]\n",
    "    trainX_seller[index, :] = X\n",
    "    trainY_seller[index] = Y\n",
    "    \n",
    "    index = index+1\n",
    "    \n",
    "    X = np.concatenate((X_features, np.array([1])))\n",
    "    Y = row[predictionColumns[1]]\n",
    "    trainX_seller[index, :] = X\n",
    "    trainY_seller[index] = Y\n",
    "    index = index+1"
   ]
  },
  {
   "cell_type": "code",
   "execution_count": 10,
   "metadata": {
    "collapsed": true
   },
   "outputs": [],
   "source": [
    "index = 0\n",
    "for ix, row in train_table_buyer.iterrows():\n",
    "    X_features = (np.array(row[featureColumns])).flatten('F')\n",
    "    X = np.concatenate((X_features, np.array([0])))\n",
    "    Y = row[predictionColumns[0]]\n",
    "    trainX_buyer[index, :] = X\n",
    "    trainY_buyer[index] = Y\n",
    "    \n",
    "    index = index+1\n",
    "    \n",
    "    X = np.concatenate((X_features, np.array([1])))\n",
    "    Y = row[predictionColumns[1]]\n",
    "    trainX_buyer[index, :] = X\n",
    "    trainY_buyer[index] = Y\n",
    "    index = index+1"
   ]
  },
  {
   "cell_type": "code",
   "execution_count": 11,
   "metadata": {
    "collapsed": true
   },
   "outputs": [],
   "source": [
    "index = 0\n",
    "for ix, row in test_table_seller.iterrows():\n",
    "    X_features = (np.array(row[featureColumns])).flatten('F')\n",
    "    X = np.concatenate((X_features, np.array([0])))\n",
    "    testX_seller[index, :] = X\n",
    "    \n",
    "    index = index+1\n",
    "    \n",
    "    X = np.concatenate((X_features, np.array([1])))\n",
    "    testX_seller[index, :] = X\n",
    "    index = index+1"
   ]
  },
  {
   "cell_type": "code",
   "execution_count": 12,
   "metadata": {
    "collapsed": true
   },
   "outputs": [],
   "source": [
    "index = 0\n",
    "for ix, row in test_table_buyer.iterrows():\n",
    "    X_features = (np.array(row[featureColumns])).flatten('F')\n",
    "    X = np.concatenate((X_features, np.array([0])))\n",
    "    testX_buyer[index, :] = X\n",
    "    \n",
    "    index = index+1\n",
    "    \n",
    "    X = np.concatenate((X_features, np.array([1])))\n",
    "    testX_buyer[index, :] = X\n",
    "    index = index+1"
   ]
  },
  {
   "cell_type": "code",
   "execution_count": 13,
   "metadata": {
    "collapsed": false
   },
   "outputs": [
    {
     "data": {
      "text/plain": [
       "LinearRegression(copy_X=True, fit_intercept=True, n_jobs=1, normalize=False)"
      ]
     },
     "execution_count": 13,
     "metadata": {},
     "output_type": "execute_result"
    }
   ],
   "source": [
    "LR_model_seller = lm.LinearRegression(fit_intercept=True, normalize=False, n_jobs=1)\n",
    "LR_model_seller.fit(trainX_seller, trainY_seller)"
   ]
  },
  {
   "cell_type": "code",
   "execution_count": 14,
   "metadata": {
    "collapsed": false
   },
   "outputs": [
    {
     "data": {
      "text/plain": [
       "LinearRegression(copy_X=True, fit_intercept=True, n_jobs=1, normalize=False)"
      ]
     },
     "execution_count": 14,
     "metadata": {},
     "output_type": "execute_result"
    }
   ],
   "source": [
    "LR_model_buyer = lm.LinearRegression(fit_intercept=True, normalize=False, n_jobs=1)\n",
    "LR_model_buyer.fit(trainX_buyer, trainY_buyer)"
   ]
  },
  {
   "cell_type": "code",
   "execution_count": 19,
   "metadata": {
    "collapsed": false
   },
   "outputs": [],
   "source": [
    "testY_seller = LR_model_seller.predict(testX_seller)\n",
    "testY_buyer = LR_model_buyer.predict(testX_buyer)"
   ]
  },
  {
   "cell_type": "code",
   "execution_count": 20,
   "metadata": {
    "collapsed": true
   },
   "outputs": [],
   "source": [
    "prediction = pd.DataFrame.from_csv('../predictions/template_prediction.csv')"
   ]
  },
  {
   "cell_type": "code",
   "execution_count": 21,
   "metadata": {
    "collapsed": true
   },
   "outputs": [],
   "source": [
    "i = 0\n",
    "for ix, row in test_table_seller.iterrows():\n",
    "    row_id = row['row_id']\n",
    "    \n",
    "    index_in_pred = prediction[prediction['row_id'] == row_id].index.tolist()[0]\n",
    "    \n",
    "    bid = testY_seller[i]\n",
    "    i = i+1\n",
    "    ask = testY_seller[i]\n",
    "    i = i+1\n",
    "    \n",
    "    for column in predictionColumns:\n",
    "        if column.startswith('bid'):\n",
    "            prediction.set_value(index_in_pred, column, bid)\n",
    "        else:\n",
    "            prediction.set_value(index_in_pred, column, ask)"
   ]
  },
  {
   "cell_type": "code",
   "execution_count": 22,
   "metadata": {
    "collapsed": true
   },
   "outputs": [],
   "source": [
    "i = 0\n",
    "for ix, row in test_table_buyer.iterrows():\n",
    "    row_id = row['row_id']\n",
    "    \n",
    "    index_in_pred = prediction[prediction['row_id'] == row_id].index.tolist()[0]\n",
    "    \n",
    "    bid = testY_buyer[i]\n",
    "    i = i+1\n",
    "    ask = testY_buyer[i]\n",
    "    i = i+1\n",
    "    \n",
    "    for column in predictionColumns:\n",
    "        if column.startswith('bid'):\n",
    "            prediction.set_value(index_in_pred, column, bid)\n",
    "        else:\n",
    "            prediction.set_value(index_in_pred, column, ask)"
   ]
  },
  {
   "cell_type": "code",
   "execution_count": null,
   "metadata": {
    "collapsed": true
   },
   "outputs": [],
   "source": []
  }
 ],
 "metadata": {
  "kernelspec": {
   "display_name": "Python [conda root]",
   "language": "python",
   "name": "conda-root-py"
  },
  "language_info": {
   "codemirror_mode": {
    "name": "ipython",
    "version": 2
   },
   "file_extension": ".py",
   "mimetype": "text/x-python",
   "name": "python",
   "nbconvert_exporter": "python",
   "pygments_lexer": "ipython2",
   "version": "2.7.12"
  }
 },
 "nbformat": 4,
 "nbformat_minor": 1
}
